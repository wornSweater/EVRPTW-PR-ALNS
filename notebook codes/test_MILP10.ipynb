{
 "cells": [
  {
   "cell_type": "code",
   "execution_count": 1,
   "id": "initial_id",
   "metadata": {
    "collapsed": true,
    "ExecuteTime": {
     "end_time": "2024-06-29T20:53:05.684643Z",
     "start_time": "2024-06-29T20:53:05.256631Z"
    }
   },
   "outputs": [],
   "source": [
    "# import os and glob to process the file\n",
    "import os\n",
    "from glob import glob\n",
    "from mip_model import milp_model\n",
    "\n",
    "# get the folder path\n",
    "folder_path = \"evrptw_instances\"\n",
    "# get all the names\n",
    "file_names = os.listdir(folder_path)"
   ]
  },
  {
   "cell_type": "code",
   "outputs": [],
   "source": [
    "# get the files that for this type of instances\n",
    "files = glob(f'{folder_path}/*C10.txt')"
   ],
   "metadata": {
    "collapsed": false,
    "ExecuteTime": {
     "end_time": "2024-06-29T20:53:05.689728Z",
     "start_time": "2024-06-29T20:53:05.685676Z"
    }
   },
   "id": "9756a988cc324bc",
   "execution_count": 2
  },
  {
   "cell_type": "code",
   "outputs": [
    {
     "name": "stdout",
     "output_type": "stream",
     "text": [
      "Set parameter Username\n",
      "Academic license - for non-commercial use only - expires 2025-01-21\n"
     ]
    }
   ],
   "source": [
    "data = [[\"name\", \"distance\", \"vehicle\", \"solving time\"]]\n",
    "for file in files:\n",
    "    x, y, z = milp_model(file)\n",
    "    data.append([os.path.splitext(os.path.basename(file))[0], x, y, z])"
   ],
   "metadata": {
    "collapsed": false,
    "ExecuteTime": {
     "end_time": "2024-06-29T20:53:41.707029Z",
     "start_time": "2024-06-29T20:53:05.691024Z"
    }
   },
   "id": "28104d9c6a88cf41",
   "execution_count": 3
  },
  {
   "cell_type": "code",
   "outputs": [],
   "source": [
    "import csv\n",
    "with open('MILP_C10.csv', 'w', newline='') as file:\n",
    "    writer = csv.writer(file)\n",
    "    writer.writerows(data)"
   ],
   "metadata": {
    "collapsed": false,
    "ExecuteTime": {
     "end_time": "2024-06-29T20:53:41.714933Z",
     "start_time": "2024-06-29T20:53:41.708026Z"
    }
   },
   "id": "df0ab6427f16a05d",
   "execution_count": 4
  }
 ],
 "metadata": {
  "kernelspec": {
   "display_name": "Python 3",
   "language": "python",
   "name": "python3"
  },
  "language_info": {
   "codemirror_mode": {
    "name": "ipython",
    "version": 2
   },
   "file_extension": ".py",
   "mimetype": "text/x-python",
   "name": "python",
   "nbconvert_exporter": "python",
   "pygments_lexer": "ipython2",
   "version": "2.7.6"
  }
 },
 "nbformat": 4,
 "nbformat_minor": 5
}
