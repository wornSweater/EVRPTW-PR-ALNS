{
 "cells": [
  {
   "cell_type": "code",
   "execution_count": 1,
   "id": "initial_id",
   "metadata": {
    "collapsed": true,
    "ExecuteTime": {
     "end_time": "2024-06-30T14:50:33.433468Z",
     "start_time": "2024-06-30T14:50:32.801616Z"
    }
   },
   "outputs": [],
   "source": [
    "# import os and glob to process the file\n",
    "import os\n",
    "from glob import glob\n",
    "from Initial import Heuristic\n",
    "from file_reader import get_parameters\n",
    "from helper_function import Helper\n",
    "from tqdm import tqdm\n",
    "\n",
    "# get the folder path\n",
    "folder_path = \"evrptw_instances\"\n",
    "# get all the names\n",
    "file_names = os.listdir(folder_path)"
   ]
  },
  {
   "cell_type": "code",
   "outputs": [],
   "source": [
    "# get the files that for this type of instances\n",
    "files = glob(f'{folder_path}/*21.txt')"
   ],
   "metadata": {
    "collapsed": false,
    "ExecuteTime": {
     "end_time": "2024-06-30T14:50:33.441782Z",
     "start_time": "2024-06-30T14:50:33.435460Z"
    }
   },
   "id": "3057328940efe880",
   "execution_count": 2
  },
  {
   "cell_type": "code",
   "outputs": [
    {
     "name": "stderr",
     "output_type": "stream",
     "text": [
      "  0%|          | 0/56 [00:00<?, ?it/s]"
     ]
    },
    {
     "name": "stdout",
     "output_type": "stream",
     "text": [
      "Set parameter Username\n",
      "Academic license - for non-commercial use only - expires 2025-01-21\n"
     ]
    },
    {
     "name": "stderr",
     "output_type": "stream",
     "text": [
      "100%|██████████| 56/56 [3:49:03<00:00, 245.42s/it]    \n"
     ]
    }
   ],
   "source": [
    "import json\n",
    "\n",
    "for file in tqdm(files):\n",
    "    parameters = get_parameters(file)\n",
    "    initial = Heuristic(parameters)\n",
    "    helper = Helper(parameters)\n",
    "    solution = initial.initial_solution()\n",
    "    with open(\"C100/\"+os.path.splitext(os.path.basename(file))[0]+\".json\", \"w\") as out_file:\n",
    "        json.dump(solution, out_file)"
   ],
   "metadata": {
    "collapsed": false,
    "ExecuteTime": {
     "end_time": "2024-06-30T18:39:37.253107Z",
     "start_time": "2024-06-30T14:50:33.442861Z"
    }
   },
   "id": "93336a1d703496d0",
   "execution_count": 3
  },
  {
   "cell_type": "code",
   "outputs": [],
   "source": [
    "# import csv\n",
    "# with open('ALNS_C100.csv', 'w', newline='') as file:\n",
    "#     writer = csv.writer(file)\n",
    "#     writer.writerows(data)"
   ],
   "metadata": {
    "collapsed": false,
    "ExecuteTime": {
     "end_time": "2024-06-30T18:39:37.300625Z",
     "start_time": "2024-06-30T18:39:37.276604Z"
    }
   },
   "id": "a3e260ef2eed1ccd",
   "execution_count": 4
  }
 ],
 "metadata": {
  "kernelspec": {
   "display_name": "Python 3",
   "language": "python",
   "name": "python3"
  },
  "language_info": {
   "codemirror_mode": {
    "name": "ipython",
    "version": 2
   },
   "file_extension": ".py",
   "mimetype": "text/x-python",
   "name": "python",
   "nbconvert_exporter": "python",
   "pygments_lexer": "ipython2",
   "version": "2.7.6"
  }
 },
 "nbformat": 4,
 "nbformat_minor": 5
}
