{
 "cells": [
  {
   "cell_type": "code",
   "execution_count": 1,
   "id": "initial_id",
   "metadata": {
    "collapsed": true,
    "ExecuteTime": {
     "end_time": "2024-06-29T22:01:52.422245Z",
     "start_time": "2024-06-29T22:01:51.839506Z"
    }
   },
   "outputs": [],
   "source": [
    "# import os and glob to process the file\n",
    "import os\n",
    "from glob import glob\n",
    "from mip_model import milp_model\n",
    "\n",
    "# get the folder path\n",
    "folder_path = \"evrptw_instances\"\n",
    "# get all the names\n",
    "file_names = os.listdir(folder_path)"
   ]
  },
  {
   "cell_type": "code",
   "outputs": [],
   "source": [
    "# get the files that for this type of instances\n",
    "files = glob(f'{folder_path}/*C15.txt')"
   ],
   "metadata": {
    "collapsed": false,
    "ExecuteTime": {
     "end_time": "2024-06-29T22:01:52.429511Z",
     "start_time": "2024-06-29T22:01:52.424310Z"
    }
   },
   "id": "4cec705d7d769155",
   "execution_count": 2
  },
  {
   "cell_type": "code",
   "outputs": [
    {
     "name": "stdout",
     "output_type": "stream",
     "text": [
      "Set parameter Username\n",
      "Academic license - for non-commercial use only - expires 2025-01-21\n"
     ]
    }
   ],
   "source": [
    "data = [[\"name\", \"distance\", \"vehicle\", \"solving time\"]]\n",
    "for file in files:\n",
    "    x, y, z = milp_model(file)\n",
    "    data.append([os.path.splitext(os.path.basename(file))[0], x, y, z])"
   ],
   "metadata": {
    "collapsed": false,
    "ExecuteTime": {
     "end_time": "2024-06-30T01:58:42.913267Z",
     "start_time": "2024-06-29T22:01:52.431511Z"
    }
   },
   "id": "5b0a9416c8033e45",
   "execution_count": 3
  },
  {
   "cell_type": "code",
   "outputs": [],
   "source": [
    "import csv\n",
    "with open('MILP_C15.csv', 'w', newline='') as file:\n",
    "    writer = csv.writer(file)\n",
    "    writer.writerows(data)"
   ],
   "metadata": {
    "collapsed": false,
    "ExecuteTime": {
     "end_time": "2024-06-30T01:58:42.974489Z",
     "start_time": "2024-06-30T01:58:42.937203Z"
    }
   },
   "id": "92018e0cf9b64b0e",
   "execution_count": 4
  }
 ],
 "metadata": {
  "kernelspec": {
   "display_name": "Python 3",
   "language": "python",
   "name": "python3"
  },
  "language_info": {
   "codemirror_mode": {
    "name": "ipython",
    "version": 2
   },
   "file_extension": ".py",
   "mimetype": "text/x-python",
   "name": "python",
   "nbconvert_exporter": "python",
   "pygments_lexer": "ipython2",
   "version": "2.7.6"
  }
 },
 "nbformat": 4,
 "nbformat_minor": 5
}
